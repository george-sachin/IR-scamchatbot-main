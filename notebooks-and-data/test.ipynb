{
 "cells": [
  {
   "cell_type": "code",
   "execution_count": 1,
   "metadata": {},
   "outputs": [],
   "source": [
    "from transformers import pipeline, AutoTokenizer, AutoModel, AutoModelForSeq2SeqLM\n",
    "import os\n",
    "import pysolr\n",
    "import requests\n",
    "import json\n",
    "import urllib\n",
    "from deep_translator import GoogleTranslator\n",
    "from langdetect import detect\n",
    "from urllib.parse import urlencode\n",
    "import string\n",
    "import pandas as pd\n",
    "import torch"
   ]
  },
  {
   "cell_type": "code",
   "execution_count": 14,
   "metadata": {},
   "outputs": [],
   "source": [
    "line = \"do you think climate change is real?\""
   ]
  },
  {
   "cell_type": "code",
   "execution_count": 15,
   "metadata": {},
   "outputs": [],
   "source": [
    "punc = string.punctuation.replace(\"#\", \"\")\n",
    "query = line.translate(str.maketrans('', '', punc))\n",
    "#query = line.strip('\\n').replace(':', '').split(\" \", maxsplit=1)\n",
    "queryText = query.replace(\"\\n\",\"\")\n",
    "topic = \"environment\"\n",
    "\n",
    "query = {\n",
    "    \"fl\" : \"* score\",\n",
    "    \"q\": f\"body: {queryText} selftext: {queryText} topic: {topic}\",\n",
    "    \"rows\": 5,\n",
    "    \"defType\": \"edismax\",\n",
    "    \"wt\": \"json\",\n",
    "    \"qf\": \"body^1 selftext^1 topic^1\"\n",
    "}\n",
    "result = urlencode(query)\n",
    "inurl = 'http://34.134.102.49:8983/solr/IRF22P1/select?'+ result\n",
    "\n",
    "data = urllib.request.urlopen(inurl).read()\n",
    "docs = json.loads(data.decode('utf-8'))['response']['docs']"
   ]
  },
  {
   "cell_type": "code",
   "execution_count": 16,
   "metadata": {},
   "outputs": [],
   "source": [
    "df = pd.DataFrame(docs)"
   ]
  },
  {
   "cell_type": "code",
   "execution_count": 17,
   "metadata": {},
   "outputs": [
    {
     "data": {
      "text/html": [
       "<div>\n",
       "<style scoped>\n",
       "    .dataframe tbody tr th:only-of-type {\n",
       "        vertical-align: middle;\n",
       "    }\n",
       "\n",
       "    .dataframe tbody tr th {\n",
       "        vertical-align: top;\n",
       "    }\n",
       "\n",
       "    .dataframe thead th {\n",
       "        text-align: right;\n",
       "    }\n",
       "</style>\n",
       "<table border=\"1\" class=\"dataframe\">\n",
       "  <thead>\n",
       "    <tr style=\"text-align: right;\">\n",
       "      <th></th>\n",
       "      <th>author</th>\n",
       "      <th>id</th>\n",
       "      <th>subreddit</th>\n",
       "      <th>full_link</th>\n",
       "      <th>is_submission</th>\n",
       "      <th>created_at</th>\n",
       "      <th>body</th>\n",
       "      <th>parent_body</th>\n",
       "      <th>parent_id</th>\n",
       "      <th>_version_</th>\n",
       "      <th>score</th>\n",
       "    </tr>\n",
       "  </thead>\n",
       "  <tbody>\n",
       "    <tr>\n",
       "      <th>0</th>\n",
       "      <td>FixForb</td>\n",
       "      <td>hxzv9r0</td>\n",
       "      <td>Foodforthought</td>\n",
       "      <td>https://www.reddit.com/r/Foodforthought/commen...</td>\n",
       "      <td>False</td>\n",
       "      <td>2022-02-22T18:39:35Z</td>\n",
       "      <td>&amp;gt;I can't help but wonder if we stopped talk...</td>\n",
       "      <td>Perhaps an unpopular opinion, but I'm starting...</td>\n",
       "      <td>t1_hxzjf6v</td>\n",
       "      <td>1744516167577370626</td>\n",
       "      <td>17.561678</td>\n",
       "    </tr>\n",
       "    <tr>\n",
       "      <th>1</th>\n",
       "      <td>Usalien1</td>\n",
       "      <td>hylhyrx</td>\n",
       "      <td>conspiracy</td>\n",
       "      <td>https://www.reddit.com/r/conspiracy/comments/t...</td>\n",
       "      <td>False</td>\n",
       "      <td>2022-02-27T02:55:44Z</td>\n",
       "      <td>Chances are most of those are true. The global...</td>\n",
       "      <td>Has anyone else been watching CPAC (Conservati...</td>\n",
       "      <td>t3_t2e008</td>\n",
       "      <td>1744527106401894403</td>\n",
       "      <td>16.537197</td>\n",
       "    </tr>\n",
       "    <tr>\n",
       "      <th>2</th>\n",
       "      <td>half-a-duck</td>\n",
       "      <td>i05amfn</td>\n",
       "      <td>cscareerquestions</td>\n",
       "      <td>https://www.reddit.com/r/cscareerquestions/com...</td>\n",
       "      <td>False</td>\n",
       "      <td>2022-03-10T19:44:37Z</td>\n",
       "      <td>Most people prefer to blame heavy users of ele...</td>\n",
       "      <td>I tried Googling for this question a few times...</td>\n",
       "      <td>t1_i04q12r</td>\n",
       "      <td>1744251708265988098</td>\n",
       "      <td>15.038864</td>\n",
       "    </tr>\n",
       "    <tr>\n",
       "      <th>3</th>\n",
       "      <td>appleinwinter</td>\n",
       "      <td>i05x1bd</td>\n",
       "      <td>KUWTK</td>\n",
       "      <td>https://www.reddit.com/r/KUWTK/comments/tanb0k...</td>\n",
       "      <td>False</td>\n",
       "      <td>2022-03-10T22:12:44Z</td>\n",
       "      <td>Let’s be real on climate change here, we’ve no...</td>\n",
       "      <td>To the stans: why?\\n\\nI've been wanting to wri...</td>\n",
       "      <td>t3_tanb0k</td>\n",
       "      <td>1744527105927938048</td>\n",
       "      <td>14.864832</td>\n",
       "    </tr>\n",
       "    <tr>\n",
       "      <th>4</th>\n",
       "      <td>DeadBirdLiveBird</td>\n",
       "      <td>hlcaeok</td>\n",
       "      <td>Foodforthought</td>\n",
       "      <td>https://www.reddit.com/r/Foodforthought/commen...</td>\n",
       "      <td>False</td>\n",
       "      <td>2021-11-20T02:48:10Z</td>\n",
       "      <td>Models are always wrong. Always. They're still...</td>\n",
       "      <td>&amp;gt;As to the predictions: What about them? Th...</td>\n",
       "      <td>t1_hlc074p</td>\n",
       "      <td>1744516167834271745</td>\n",
       "      <td>14.694366</td>\n",
       "    </tr>\n",
       "  </tbody>\n",
       "</table>\n",
       "</div>"
      ],
      "text/plain": [
       "             author       id          subreddit  \\\n",
       "0           FixForb  hxzv9r0     Foodforthought   \n",
       "1          Usalien1  hylhyrx         conspiracy   \n",
       "2       half-a-duck  i05amfn  cscareerquestions   \n",
       "3     appleinwinter  i05x1bd              KUWTK   \n",
       "4  DeadBirdLiveBird  hlcaeok     Foodforthought   \n",
       "\n",
       "                                           full_link  is_submission  \\\n",
       "0  https://www.reddit.com/r/Foodforthought/commen...          False   \n",
       "1  https://www.reddit.com/r/conspiracy/comments/t...          False   \n",
       "2  https://www.reddit.com/r/cscareerquestions/com...          False   \n",
       "3  https://www.reddit.com/r/KUWTK/comments/tanb0k...          False   \n",
       "4  https://www.reddit.com/r/Foodforthought/commen...          False   \n",
       "\n",
       "             created_at                                               body  \\\n",
       "0  2022-02-22T18:39:35Z  &gt;I can't help but wonder if we stopped talk...   \n",
       "1  2022-02-27T02:55:44Z  Chances are most of those are true. The global...   \n",
       "2  2022-03-10T19:44:37Z  Most people prefer to blame heavy users of ele...   \n",
       "3  2022-03-10T22:12:44Z  Let’s be real on climate change here, we’ve no...   \n",
       "4  2021-11-20T02:48:10Z  Models are always wrong. Always. They're still...   \n",
       "\n",
       "                                         parent_body   parent_id  \\\n",
       "0  Perhaps an unpopular opinion, but I'm starting...  t1_hxzjf6v   \n",
       "1  Has anyone else been watching CPAC (Conservati...   t3_t2e008   \n",
       "2  I tried Googling for this question a few times...  t1_i04q12r   \n",
       "3  To the stans: why?\\n\\nI've been wanting to wri...   t3_tanb0k   \n",
       "4  &gt;As to the predictions: What about them? Th...  t1_hlc074p   \n",
       "\n",
       "             _version_      score  \n",
       "0  1744516167577370626  17.561678  \n",
       "1  1744527106401894403  16.537197  \n",
       "2  1744251708265988098  15.038864  \n",
       "3  1744527105927938048  14.864832  \n",
       "4  1744516167834271745  14.694366  "
      ]
     },
     "execution_count": 17,
     "metadata": {},
     "output_type": "execute_result"
    }
   ],
   "source": [
    "df"
   ]
  },
  {
   "cell_type": "code",
   "execution_count": 6,
   "metadata": {},
   "outputs": [],
   "source": [
    "l = []\n",
    "for i in range(len(df)):\n",
    "  if isinstance(df['body'].iloc[i], str) and isinstance(df['parent_body'].iloc[i], str):\n",
    "    l.append(df['parent_body'].iloc[i]+' '+df['body'].iloc[i])"
   ]
  },
  {
   "cell_type": "code",
   "execution_count": 7,
   "metadata": {},
   "outputs": [
    {
     "data": {
      "text/plain": [
       "[\"Perhaps an unpopular opinion, but I'm starting to believe this is why the conservative narrative is so appealing to so many Americans. The truth is, climate change *isn't* the cause of all our problems. Or rather, it isn't the *only* cause of many disasters. The problem with climate change is that it's too abstract - taking carbon out of the air might reduce the chances of a flood or a wildfire in a few decades, but it won't prevent the one forecast for next week.\\n\\nI can't help but wonder if we stopped talking about climate and instead focused on practical, real-world solutions, we might stumble our way into something resembling climate resilience, instead of getting caught up in abstract climate arguments without advancing the sort of revolutionary change required to address it. I'm not a climate denier, and I absolutely believe that we should be doing everything possible to reduce, counteract, and prevent climate change. But I also am starting to see that as a politically unworkable gambit that's increasingly distracting us from actually trying to adapt to and live with climate change instead.\\n\\nCMV? &gt;I can't help but wonder if we stopped talking about climate and instead focused on practical, real-world solutions, we might stumble our way into something resembling climate resilience\\n\\nI'd challenge you to think up one of those solutions that conservatives won't actively oppose. There are many practical, real-world solutions that people propose like weatherizing the electric grid, or not building in flood plain areas (just to think of two from my neck of the woods) where the chief opponents are conservatives.\\n\\nI personally think the appeal of the conservative take on climate change is that (a) it's much less scary and (b) requires none of the collective action combating climate change would take.\",\n",
       " \"Has anyone else been watching CPAC (Conservative Political Action Conference) over the past couple of days and noticed that this mainstream political convention is spending a lot of time talking about conspiracy theories? \\n\\n&amp;#x200B;\\n\\n* The Left is using education and entertainment to indoctrinate the youth\\n* The Left controls the main stream media, making everything said by the MSM fake news\\n* The Left is indoctrinating the youth to hate America and believe that all white people are racist\\n* The Left is working with Big Tech to censor and jail Conservative voices\\n* The Left ultimate goal is the creation of a Marxist communist state where you own nothing and probably won't be happy\\n* The Elites are weakening the family unit through the use of abortion and teaching children to be gay and/or trans\\n* George Soros, Klaus Schwab and the WEF have an global agenda of control and fund the above efforts\\n* Justin Trudeau is actually the son of Fidel Castro\\n* Global Warming is a hoax\\n* Dr. Peter McCullough spoke about successful covid treatments that are being suppressed\\n* The 2020 Presidential Election was stolen from Donald Trump\\n\\n&amp;#x200B;\\n\\nBy its nature, conspiracy theories have never seen mainstream acceptance like they are now. Does this make the above theories more or less credible? \\n\\nClassical conspiratorial belief would could only lead you to the conclusion that the above are not credible theories because they are being pushed by mainstream institutions with an agenda. After all, there are not 2 sides; there are simply 2 heads to the beast that controls the world. \\n\\nOr are these ideas more creditable because they are seeing widespread support? \\n\\nHow does the conspiracy community feel about one of the two major American political parties going all in on conspiracy theories? Chances are most of those are true. The global warming one I'll withhold judgement, though only because I assume you mean climate change. Climate change is, of course, real, it always changes. The hoax in that is that it's AGW.\\n\\nTo argue the opposite of any of these is actually a sign of being part of the establishment.\"]"
      ]
     },
     "execution_count": 7,
     "metadata": {},
     "output_type": "execute_result"
    }
   ],
   "source": [
    "l"
   ]
  },
  {
   "cell_type": "code",
   "execution_count": 8,
   "metadata": {},
   "outputs": [],
   "source": [
    "res = \"<P> \" + \" <P> \".join(l)"
   ]
  },
  {
   "cell_type": "code",
   "execution_count": 9,
   "metadata": {},
   "outputs": [],
   "source": [
    "res = res.replace(\"\\n\",\"\")"
   ]
  },
  {
   "cell_type": "code",
   "execution_count": 10,
   "metadata": {},
   "outputs": [
    {
     "data": {
      "text/plain": [
       "\"<P> Perhaps an unpopular opinion, but I'm starting to believe this is why the conservative narrative is so appealing to so many Americans. The truth is, climate change *isn't* the cause of all our problems. Or rather, it isn't the *only* cause of many disasters. The problem with climate change is that it's too abstract - taking carbon out of the air might reduce the chances of a flood or a wildfire in a few decades, but it won't prevent the one forecast for next week.I can't help but wonder if we stopped talking about climate and instead focused on practical, real-world solutions, we might stumble our way into something resembling climate resilience, instead of getting caught up in abstract climate arguments without advancing the sort of revolutionary change required to address it. I'm not a climate denier, and I absolutely believe that we should be doing everything possible to reduce, counteract, and prevent climate change. But I also am starting to see that as a politically unworkable gambit that's increasingly distracting us from actually trying to adapt to and live with climate change instead.CMV? &gt;I can't help but wonder if we stopped talking about climate and instead focused on practical, real-world solutions, we might stumble our way into something resembling climate resilienceI'd challenge you to think up one of those solutions that conservatives won't actively oppose. There are many practical, real-world solutions that people propose like weatherizing the electric grid, or not building in flood plain areas (just to think of two from my neck of the woods) where the chief opponents are conservatives.I personally think the appeal of the conservative take on climate change is that (a) it's much less scary and (b) requires none of the collective action combating climate change would take. <P> Has anyone else been watching CPAC (Conservative Political Action Conference) over the past couple of days and noticed that this mainstream political convention is spending a lot of time talking about conspiracy theories? &amp;#x200B;* The Left is using education and entertainment to indoctrinate the youth* The Left controls the main stream media, making everything said by the MSM fake news* The Left is indoctrinating the youth to hate America and believe that all white people are racist* The Left is working with Big Tech to censor and jail Conservative voices* The Left ultimate goal is the creation of a Marxist communist state where you own nothing and probably won't be happy* The Elites are weakening the family unit through the use of abortion and teaching children to be gay and/or trans* George Soros, Klaus Schwab and the WEF have an global agenda of control and fund the above efforts* Justin Trudeau is actually the son of Fidel Castro* Global Warming is a hoax* Dr. Peter McCullough spoke about successful covid treatments that are being suppressed* The 2020 Presidential Election was stolen from Donald Trump&amp;#x200B;By its nature, conspiracy theories have never seen mainstream acceptance like they are now. Does this make the above theories more or less credible? Classical conspiratorial belief would could only lead you to the conclusion that the above are not credible theories because they are being pushed by mainstream institutions with an agenda. After all, there are not 2 sides; there are simply 2 heads to the beast that controls the world. Or are these ideas more creditable because they are seeing widespread support? How does the conspiracy community feel about one of the two major American political parties going all in on conspiracy theories? Chances are most of those are true. The global warming one I'll withhold judgement, though only because I assume you mean climate change. Climate change is, of course, real, it always changes. The hoax in that is that it's AGW.To argue the opposite of any of these is actually a sign of being part of the establishment.\""
      ]
     },
     "execution_count": 10,
     "metadata": {},
     "output_type": "execute_result"
    }
   ],
   "source": [
    "res"
   ]
  },
  {
   "cell_type": "code",
   "execution_count": 11,
   "metadata": {},
   "outputs": [],
   "source": [
    "model_name = \"yjernite/bart_eli5\"\n",
    "device = torch.device('cuda' if torch.cuda.is_available() else 'cpu')\n",
    "\n",
    "tokenizer = AutoTokenizer.from_pretrained(model_name)\n",
    "model = AutoModelForSeq2SeqLM.from_pretrained(model_name)\n",
    "model = model.to(device)"
   ]
  },
  {
   "cell_type": "code",
   "execution_count": null,
   "metadata": {},
   "outputs": [],
   "source": []
  },
  {
   "cell_type": "code",
   "execution_count": 12,
   "metadata": {},
   "outputs": [],
   "source": [
    "query_and_docs = \"question: {} context: {}\".format(queryText, res)"
   ]
  },
  {
   "cell_type": "code",
   "execution_count": 13,
   "metadata": {},
   "outputs": [
    {
     "data": {
      "text/plain": [
       "\"question: do you think climate change is real context: <P> Perhaps an unpopular opinion, but I'm starting to believe this is why the conservative narrative is so appealing to so many Americans. The truth is, climate change *isn't* the cause of all our problems. Or rather, it isn't the *only* cause of many disasters. The problem with climate change is that it's too abstract - taking carbon out of the air might reduce the chances of a flood or a wildfire in a few decades, but it won't prevent the one forecast for next week.I can't help but wonder if we stopped talking about climate and instead focused on practical, real-world solutions, we might stumble our way into something resembling climate resilience, instead of getting caught up in abstract climate arguments without advancing the sort of revolutionary change required to address it. I'm not a climate denier, and I absolutely believe that we should be doing everything possible to reduce, counteract, and prevent climate change. But I also am starting to see that as a politically unworkable gambit that's increasingly distracting us from actually trying to adapt to and live with climate change instead.CMV? &gt;I can't help but wonder if we stopped talking about climate and instead focused on practical, real-world solutions, we might stumble our way into something resembling climate resilienceI'd challenge you to think up one of those solutions that conservatives won't actively oppose. There are many practical, real-world solutions that people propose like weatherizing the electric grid, or not building in flood plain areas (just to think of two from my neck of the woods) where the chief opponents are conservatives.I personally think the appeal of the conservative take on climate change is that (a) it's much less scary and (b) requires none of the collective action combating climate change would take. <P> Has anyone else been watching CPAC (Conservative Political Action Conference) over the past couple of days and noticed that this mainstream political convention is spending a lot of time talking about conspiracy theories? &amp;#x200B;* The Left is using education and entertainment to indoctrinate the youth* The Left controls the main stream media, making everything said by the MSM fake news* The Left is indoctrinating the youth to hate America and believe that all white people are racist* The Left is working with Big Tech to censor and jail Conservative voices* The Left ultimate goal is the creation of a Marxist communist state where you own nothing and probably won't be happy* The Elites are weakening the family unit through the use of abortion and teaching children to be gay and/or trans* George Soros, Klaus Schwab and the WEF have an global agenda of control and fund the above efforts* Justin Trudeau is actually the son of Fidel Castro* Global Warming is a hoax* Dr. Peter McCullough spoke about successful covid treatments that are being suppressed* The 2020 Presidential Election was stolen from Donald Trump&amp;#x200B;By its nature, conspiracy theories have never seen mainstream acceptance like they are now. Does this make the above theories more or less credible? Classical conspiratorial belief would could only lead you to the conclusion that the above are not credible theories because they are being pushed by mainstream institutions with an agenda. After all, there are not 2 sides; there are simply 2 heads to the beast that controls the world. Or are these ideas more creditable because they are seeing widespread support? How does the conspiracy community feel about one of the two major American political parties going all in on conspiracy theories? Chances are most of those are true. The global warming one I'll withhold judgement, though only because I assume you mean climate change. Climate change is, of course, real, it always changes. The hoax in that is that it's AGW.To argue the opposite of any of these is actually a sign of being part of the establishment.\""
      ]
     },
     "execution_count": 13,
     "metadata": {},
     "output_type": "execute_result"
    }
   ],
   "source": [
    "query_and_docs"
   ]
  },
  {
   "cell_type": "code",
   "execution_count": 14,
   "metadata": {},
   "outputs": [
    {
     "data": {
      "text/plain": [
       "[\" Yes, it's real. It's not a political issue, it is a scientific issue. The problem with climate change is that it's too expensive to do anything about it.\"]"
      ]
     },
     "execution_count": 14,
     "metadata": {},
     "output_type": "execute_result"
    }
   ],
   "source": [
    "model_input = tokenizer(query_and_docs, truncation=True, padding=True, return_tensors=\"pt\")\n",
    "\n",
    "generated_answers_encoded = model.generate(input_ids=model_input[\"input_ids\"].to(device),\n",
    "                                           attention_mask=model_input[\"attention_mask\"].to(device),\n",
    "                                           min_length=32,\n",
    "                                           max_length=64,\n",
    "                                           do_sample=False, \n",
    "                                           early_stopping=True,\n",
    "                                           num_beams=2,\n",
    "                                           temperature=1.0,\n",
    "                                           top_k=None,\n",
    "                                           top_p=None,\n",
    "                                           eos_token_id=tokenizer.eos_token_id,\n",
    "                                           no_repeat_ngram_size=3,\n",
    "                                           num_return_sequences=1)\n",
    "tokenizer.batch_decode(generated_answers_encoded, skip_special_tokens=True,clean_up_tokenization_spaces=True)"
   ]
  },
  {
   "cell_type": "code",
   "execution_count": null,
   "metadata": {},
   "outputs": [],
   "source": []
  }
 ],
 "metadata": {
  "kernelspec": {
   "display_name": "Python 3.8.13 ('ir_env')",
   "language": "python",
   "name": "python3"
  },
  "language_info": {
   "codemirror_mode": {
    "name": "ipython",
    "version": 3
   },
   "file_extension": ".py",
   "mimetype": "text/x-python",
   "name": "python",
   "nbconvert_exporter": "python",
   "pygments_lexer": "ipython3",
   "version": "3.8.13"
  },
  "orig_nbformat": 4,
  "vscode": {
   "interpreter": {
    "hash": "5a34dcc6762056c0d4ac408b3b134a7f10f5f442f1ad8fc447ac7f81ab003814"
   }
  }
 },
 "nbformat": 4,
 "nbformat_minor": 2
}
