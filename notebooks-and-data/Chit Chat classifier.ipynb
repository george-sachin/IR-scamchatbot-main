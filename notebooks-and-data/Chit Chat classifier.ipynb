{
 "cells": [
  {
   "cell_type": "code",
   "execution_count": 1,
   "id": "df46ec22",
   "metadata": {},
   "outputs": [],
   "source": [
    "from pickle import load"
   ]
  },
  {
   "cell_type": "code",
   "execution_count": 2,
   "id": "1f4d5487",
   "metadata": {},
   "outputs": [],
   "source": [
    "# class ChitChatClassifier:\n",
    "#     def __init__(self):\n",
    "#         with open('chitchat1.model', 'rb') as f:\n",
    "#             self.model =  load(f)\n",
    "#         with open('tfidf1.vectorizer', 'rb') as f:\n",
    "#             self.vec = load(f)\n",
    "#         self.labels = ('Not chit-chat', 'Chit-chat')\n",
    "\n",
    "#     def predict(self, excerpt):\n",
    "#         x = document_term_matrix(self.vec, excerpt)\n",
    "#         p = self.model.predict_proba(x)[0]\n",
    "#         d = dict(zip(self.model.classes_, p))\n",
    "#         key = max(d, key=d.get)\n",
    "#         return {\n",
    "#             'text': excerpt,\n",
    "#             'classification': {\n",
    "#                 'class_name': self.labels[key],\n",
    "#                 'probability': d[key]\n",
    "#             }\n",
    "#         }\n"
   ]
  },
  {
   "cell_type": "code",
   "execution_count": 3,
   "id": "7efcd4e1",
   "metadata": {},
   "outputs": [],
   "source": [
    "# from re import sub\n",
    "\n",
    "# def preprocess(excerpt):\n",
    "#     \"\"\" Return a cleaned up excerpt.\n",
    "#     \"\"\"\n",
    "#     excerpt = sub('[^a-zA-Z]', ' ', excerpt)\n",
    "#     excerpt = excerpt.lower()\n",
    "#     excerpt = excerpt.split()\n",
    "#     excerpt = ' '.join(excerpt)\n",
    "#     return excerpt\n",
    "\n",
    "\n",
    "# def document_term_matrix(vectorizer, excerpt):\n",
    "#     \"\"\" Return a document-term matrix.\n",
    "#     \"\"\"\n",
    "#     return vectorizer.transform([preprocess(excerpt)]).toarray()\n"
   ]
  },
  {
   "cell_type": "code",
   "execution_count": 4,
   "id": "280299b6",
   "metadata": {},
   "outputs": [
    {
     "name": "stderr",
     "output_type": "stream",
     "text": [
      "/home/baasit8/chatbot/chatbot_env/lib/python3.8/site-packages/sklearn/base.py:329: UserWarning: Trying to unpickle estimator MultinomialNB from version 0.20.0 when using version 1.1.3. This might lead to breaking code or invalid results. Use at your own risk. For more info please refer to:\n",
      "https://scikit-learn.org/stable/model_persistence.html#security-maintainability-limitations\n",
      "  warnings.warn(\n",
      "/home/baasit8/chatbot/chatbot_env/lib/python3.8/site-packages/sklearn/base.py:329: UserWarning: Trying to unpickle estimator TfidfTransformer from version 0.20.0 when using version 1.1.3. This might lead to breaking code or invalid results. Use at your own risk. For more info please refer to:\n",
      "https://scikit-learn.org/stable/model_persistence.html#security-maintainability-limitations\n",
      "  warnings.warn(\n",
      "/home/baasit8/chatbot/chatbot_env/lib/python3.8/site-packages/sklearn/base.py:329: UserWarning: Trying to unpickle estimator TfidfVectorizer from version 0.20.0 when using version 1.1.3. This might lead to breaking code or invalid results. Use at your own risk. For more info please refer to:\n",
      "https://scikit-learn.org/stable/model_persistence.html#security-maintainability-limitations\n",
      "  warnings.warn(\n"
     ]
    }
   ],
   "source": [
    "from chitchat_classifier import ChitChatClassifier\n",
    "\n",
    "clf = ChitChatClassifier()\n"
   ]
  },
  {
   "cell_type": "code",
   "execution_count": 5,
   "id": "9ed6c0af",
   "metadata": {},
   "outputs": [
    {
     "data": {
      "text/plain": [
       "0.8134498791362933"
      ]
     },
     "execution_count": 5,
     "metadata": {},
     "output_type": "execute_result"
    }
   ],
   "source": [
    "excerpt = \"Let's have lunch and catch up next week\"\n",
    "clf.predict(excerpt)"
   ]
  },
  {
   "cell_type": "code",
   "execution_count": 6,
   "id": "e62f7911",
   "metadata": {},
   "outputs": [
    {
     "data": {
      "text/plain": [
       "0.5071589426713559"
      ]
     },
     "execution_count": 6,
     "metadata": {},
     "output_type": "execute_result"
    }
   ],
   "source": [
    "excerpt = \"Parents Who Share Info About Their Kids Online Are a Cybersecurity Risk\"\n",
    "clf.predict(excerpt)"
   ]
  },
  {
   "cell_type": "code",
   "execution_count": null,
   "id": "a5a3e14e",
   "metadata": {},
   "outputs": [],
   "source": []
  }
 ],
 "metadata": {
  "kernelspec": {
   "display_name": "Python 3 (ipykernel)",
   "language": "python",
   "name": "python3"
  },
  "language_info": {
   "codemirror_mode": {
    "name": "ipython",
    "version": 3
   },
   "file_extension": ".py",
   "mimetype": "text/x-python",
   "name": "python",
   "nbconvert_exporter": "python",
   "pygments_lexer": "ipython3",
   "version": "3.8.10"
  }
 },
 "nbformat": 4,
 "nbformat_minor": 5
}
